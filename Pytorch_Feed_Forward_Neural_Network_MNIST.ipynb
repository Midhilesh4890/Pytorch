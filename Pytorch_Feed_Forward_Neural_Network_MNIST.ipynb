{
  "nbformat": 4,
  "nbformat_minor": 0,
  "metadata": {
    "colab": {
      "name": "Pytorch Feed Forward Neural Network - MNIST",
      "provenance": [],
      "collapsed_sections": [],
      "authorship_tag": "ABX9TyMNgxvJTcrAPiNwr+tRTYg/",
      "include_colab_link": true
    },
    "kernelspec": {
      "name": "python3",
      "display_name": "Python 3"
    }
  },
  "cells": [
    {
      "cell_type": "markdown",
      "metadata": {
        "id": "view-in-github",
        "colab_type": "text"
      },
      "source": [
        "<a href=\"https://colab.research.google.com/github/Midhilesh4890/Pytorch/blob/main/Pytorch_Feed_Forward_Neural_Network_MNIST.ipynb\" target=\"_parent\"><img src=\"https://colab.research.google.com/assets/colab-badge.svg\" alt=\"Open In Colab\"/></a>"
      ]
    },
    {
      "cell_type": "code",
      "metadata": {
        "id": "a9KHh8JJTHq1"
      },
      "source": [
        "#Necessary Libraries\r\n",
        "import torch\r\n",
        "import torch.nn as nn\r\n",
        "import torchvision\r\n",
        "import torchvision.transforms as transforms\r\n",
        "import matplotlib.pyplot as plt"
      ],
      "execution_count": 1,
      "outputs": []
    },
    {
      "cell_type": "code",
      "metadata": {
        "id": "1vg7WokRUA_9"
      },
      "source": [
        "#Hyperparameters\r\n",
        "input_size = 784 \r\n",
        "hidden_size = 100\r\n",
        "num_classes = 10 #--> Output size\r\n",
        "num_epochs = 2\r\n",
        "batch_size = 100\r\n",
        "learning_rate = 0.01"
      ],
      "execution_count": 2,
      "outputs": []
    },
    {
      "cell_type": "code",
      "metadata": {
        "id": "bQ3RKKd0UoaD"
      },
      "source": [
        "#MNIST Dataset\r\n",
        "train_dataset = torchvision.datasets.MNIST(root='./data',train=True,transform=transforms.ToTensor(),download=True)\r\n",
        "test_dataset = torchvision.datasets.MNIST(root='./data',train=False,transform=transforms.ToTensor())\r\n",
        "train_loader = torch.utils.data.DataLoader(dataset=train_dataset,batch_size=batch_size,shuffle=True)\r\n",
        "test_loader = torch.utils.data.DataLoader(dataset=test_dataset,batch_size=batch_size,shuffle=False)"
      ],
      "execution_count": 3,
      "outputs": []
    },
    {
      "cell_type": "code",
      "metadata": {
        "colab": {
          "base_uri": "https://localhost:8080/"
        },
        "id": "UKaqBlVWVRmp",
        "outputId": "3066f516-3da9-4d2b-d133-f23a1cba30ba"
      },
      "source": [
        "examples = iter(train_loader)\r\n",
        "samples,labels = examples.next()\r\n",
        "print(samples.shape,labels.shape)"
      ],
      "execution_count": 4,
      "outputs": [
        {
          "output_type": "stream",
          "text": [
            "torch.Size([100, 1, 28, 28]) torch.Size([100])\n"
          ],
          "name": "stdout"
        }
      ]
    },
    {
      "cell_type": "code",
      "metadata": {
        "colab": {
          "base_uri": "https://localhost:8080/",
          "height": 267
        },
        "id": "hsPlbA_xXckh",
        "outputId": "7ad260e0-bde5-4c97-b8dc-7814799315ca"
      },
      "source": [
        "for i in range(6):\r\n",
        "    plt.subplot(2,3,i+1)\r\n",
        "    plt.imshow(samples[i][0],cmap='gray')\r\n",
        "plt.show()"
      ],
      "execution_count": 5,
      "outputs": [
        {
          "output_type": "display_data",
          "data": {
            "image/png": "[encoded data removed]",
            "text/plain": [
              "<Figure size 432x288 with 6 Axes>"
            ]
          },
          "metadata": {
            "tags": [],
            "needs_background": "light"
          }
        }
      ]
    },
    {
      "cell_type": "code",
      "metadata": {
        "id": "PpCY7pBaX6-t"
      },
      "source": [
        "class NeuralNet(nn.Module):\r\n",
        "    def __init__(self,input_size,hidden_size,num_classes):\r\n",
        "        super(NeuralNet,self).__init__()\r\n",
        "        self.l1 = nn.Linear(input_size,hidden_size)\r\n",
        "        self.relu = nn.ReLU()\r\n",
        "        self.l2 = nn.Linear(hidden_size,num_classes)\r\n",
        "    \r\n",
        "    def forward(self,x):\r\n",
        "        out = self.l1(x)\r\n",
        "        out = self.relu(out)\r\n",
        "        out = self.l2(out)\r\n",
        "        return out"
      ],
      "execution_count": 6,
      "outputs": []
    },
    {
      "cell_type": "code",
      "metadata": {
        "id": "M03P59o9Zpfx"
      },
      "source": [
        "model = NeuralNet(input_size,hidden_size,num_classes)"
      ],
      "execution_count": 7,
      "outputs": []
    },
    {
      "cell_type": "code",
      "metadata": {
        "id": "bCwGWh-FZvnO"
      },
      "source": [
        "#Loss and Optimizer\r\n",
        "criterion = nn.CrossEntropyLoss()\r\n",
        "optimizer = torch.optim.Adam(model.parameters(),lr=learning_rate)"
      ],
      "execution_count": 8,
      "outputs": []
    },
    {
      "cell_type": "code",
      "metadata": {
        "colab": {
          "base_uri": "https://localhost:8080/"
        },
        "id": "cC5xSw2zaHQ0",
        "outputId": "04b225cc-e578-4641-988d-04fa59577725"
      },
      "source": [
        "#training loop\r\n",
        "n_total_steps = len(train_loader)\r\n",
        "for epoch in range(num_epochs):\r\n",
        "    for i,(images,labels) in enumerate(train_loader):\r\n",
        "        images = images.reshape(-1,784)\r\n",
        "        labels = labels\r\n",
        "        #forward pass\r\n",
        "        outputs = model(images)\r\n",
        "        loss = criterion(outputs,labels)\r\n",
        "        #backwards\r\n",
        "        optimizer.zero_grad()\r\n",
        "        loss.backward()\r\n",
        "        optimizer.step()\r\n",
        "        if (i+1) % 100 == 0:\r\n",
        "            print(f'epoch {epoch+1}/{num_epochs} , step {i+1}/{n_total_steps},loss = {loss.item():.4f}')"
      ],
      "execution_count": 9,
      "outputs": [
        {
          "output_type": "stream",
          "text": [
            "epoch 1/2 , step 100/600,loss = 0.2810\n",
            "epoch 1/2 , step 200/600,loss = 0.0892\n",
            "epoch 1/2 , step 300/600,loss = 0.1555\n",
            "epoch 1/2 , step 400/600,loss = 0.1557\n",
            "epoch 1/2 , step 500/600,loss = 0.1688\n",
            "epoch 1/2 , step 600/600,loss = 0.2160\n",
            "epoch 2/2 , step 100/600,loss = 0.1609\n",
            "epoch 2/2 , step 200/600,loss = 0.0292\n",
            "epoch 2/2 , step 300/600,loss = 0.0673\n",
            "epoch 2/2 , step 400/600,loss = 0.2291\n",
            "epoch 2/2 , step 500/600,loss = 0.1491\n",
            "epoch 2/2 , step 600/600,loss = 0.0380\n"
          ],
          "name": "stdout"
        }
      ]
    },
    {
      "cell_type": "code",
      "metadata": {
        "colab": {
          "base_uri": "https://localhost:8080/"
        },
        "id": "ajutXtEecOxN",
        "outputId": "792a0922-5ab5-485b-f19d-cd251e6a7901"
      },
      "source": [
        "with torch.no_grad():\r\n",
        "    n_correct = 0\r\n",
        "    n_samples = 0\r\n",
        "    for images , labels in test_loader:\r\n",
        "        images = images.reshape(-1,784)\r\n",
        "        labels = labels\r\n",
        "        outputs = model(images)\r\n",
        "        #value,index\r\n",
        "        _, predictions = torch.max(outputs,1)\r\n",
        "        n_samples += labels.shape[0]\r\n",
        "        n_correct += (predictions == labels).sum().item()\r\n",
        "    acc = 100 * n_correct / n_samples\r\n",
        "    print(f'accuracy = {acc}')"
      ],
      "execution_count": 10,
      "outputs": [
        {
          "output_type": "stream",
          "text": [
            "accuracy = 96.52\n"
          ],
          "name": "stdout"
        }
      ]
    }
  ]
}